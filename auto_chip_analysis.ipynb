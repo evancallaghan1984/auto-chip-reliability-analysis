{
 "cells": [
  {
   "cell_type": "code",
   "execution_count": 20,
   "metadata": {},
   "outputs": [],
   "source": [
    "# Import pyspark\n",
    "from pyspark.sql import SparkSession\n",
    "from pyspark.sql.functions import col, when, regexp_extract, percent_rank\n",
    "from pyspark.sql import functions as F\n",
    "from pyspark.sql.window import Window\n",
    "\n"
   ]
  },
  {
   "cell_type": "code",
   "execution_count": 2,
   "metadata": {},
   "outputs": [
    {
     "name": "stderr",
     "output_type": "stream",
     "text": [
      "WARNING: Using incubator modules: jdk.incubator.vector\n",
      "Using Spark's default log4j profile: org/apache/spark/log4j2-defaults.properties\n",
      "25/06/03 15:36:12 WARN Utils: Your hostname, Evans-MacBook-Pro-2.local, resolves to a loopback address: 127.0.0.1; using 192.168.0.149 instead (on interface en0)\n",
      "25/06/03 15:36:12 WARN Utils: Set SPARK_LOCAL_IP if you need to bind to another address\n",
      "Using Spark's default log4j profile: org/apache/spark/log4j2-defaults.properties\n",
      "Setting default log level to \"WARN\".\n",
      "To adjust logging level use sc.setLogLevel(newLevel). For SparkR, use setLogLevel(newLevel).\n",
      "25/06/03 15:36:14 WARN NativeCodeLoader: Unable to load native-hadoop library for your platform... using builtin-java classes where applicable\n"
     ]
    }
   ],
   "source": [
    "# Create a Spark Session\n",
    "spark = SparkSession.builder\\\n",
    "    .appName(\"Automotive Chip Reliability ETL\")\\\n",
    "        .getOrCreate()"
   ]
  },
  {
   "cell_type": "code",
   "execution_count": 3,
   "metadata": {},
   "outputs": [],
   "source": [
    "# Load the CSV file into a Spark DataFrame\n",
    "raw_chip_df = spark.read.csv('data/automotive_chips_reliability_dataset.csv', header=True, inferSchema=True)"
   ]
  },
  {
   "cell_type": "code",
   "execution_count": 4,
   "metadata": {},
   "outputs": [
    {
     "name": "stdout",
     "output_type": "stream",
     "text": [
      "root\n",
      " |-- Chip ID: string (nullable = true)\n",
      " |-- Technology Node: integer (nullable = true)\n",
      " |-- FSDOI Type: string (nullable = true)\n",
      " |-- Gate Density: integer (nullable = true)\n",
      " |-- Substrate Type: string (nullable = true)\n",
      " |-- Power Consumption: double (nullable = true)\n",
      " |-- Thermal Dispersion Efficiency: double (nullable = true)\n",
      " |-- Mechanical Stress Resistance: double (nullable = true)\n",
      " |-- Temperature Range: string (nullable = true)\n",
      " |-- Humidity Levels: integer (nullable = true)\n",
      " |-- Vibration Levels: string (nullable = true)\n",
      " |-- External Load Stress: integer (nullable = true)\n",
      " |-- Thermal Stress: double (nullable = true)\n",
      " |-- Mechanical Stress: double (nullable = true)\n",
      " |-- Electrical Density: double (nullable = true)\n",
      " |-- Electromigration Risk: double (nullable = true)\n",
      " |-- Deformation: double (nullable = true)\n",
      " |-- Thermal Test Result: double (nullable = true)\n",
      " |-- Mechanical Stress Test Result: double (nullable = true)\n",
      " |-- Failure Mode: string (nullable = true)\n",
      " |-- Failure Rate (%): double (nullable = true)\n",
      " |-- MTTF (hours): integer (nullable = true)\n",
      " |-- Reliability Score: double (nullable = true)\n",
      " |-- Failure Rate Comparison: string (nullable = true)\n",
      " |-- Statistical Significance: string (nullable = true)\n",
      "\n"
     ]
    }
   ],
   "source": [
    "raw_chip_df.printSchema()"
   ]
  },
  {
   "cell_type": "code",
   "execution_count": 5,
   "metadata": {},
   "outputs": [
    {
     "name": "stdout",
     "output_type": "stream",
     "text": [
      "+-------+---------------+-----------+------------+-----------------+-----------------+-----------------------------+----------------------------+-----------------+---------------+----------------+--------------------+------------------+------------------+------------------+---------------------+-------------------+-------------------+-----------------------------+------------------+-----------------+------------+-----------------+-----------------------+------------------------+\n",
      "|Chip ID|Technology Node| FSDOI Type|Gate Density|   Substrate Type|Power Consumption|Thermal Dispersion Efficiency|Mechanical Stress Resistance|Temperature Range|Humidity Levels|Vibration Levels|External Load Stress|    Thermal Stress| Mechanical Stress|Electrical Density|Electromigration Risk|        Deformation|Thermal Test Result|Mechanical Stress Test Result|      Failure Mode| Failure Rate (%)|MTTF (hours)|Reliability Score|Failure Rate Comparison|Statistical Significance|\n",
      "+-------+---------------+-----------+------------+-----------------+-----------------+-----------------------------+----------------------------+-----------------+---------------+----------------+--------------------+------------------+------------------+------------------+---------------------+-------------------+-------------------+-----------------------------+------------------+-----------------+------------+-----------------+-----------------------+------------------------+\n",
      "|Chip001|              5|Thick Layer|         989|          Silicon|             3.12|              70.364436513031|          195.48182400614584|    -20°C to 85°C|             80|          Medium|                  48|124.04184890445367|219.88458531609044| 49.10287370072312|  0.03273841845647966| 0.4980688861428193|  33.00966001869167|           145.85045256562228|   Thermal Failure|4.069810220267985|        2482|7.033093793285942|             2x Reduced|          p-value < 0.05|\n",
      "|Chip002|             14|Thick Layer|        1432|Silicon-Germanium|             3.23|            71.88885921511857|          56.473986792586416|   -40°C to 125°C|             80|            High|                  15|145.92273624696506|190.25500435969806| 50.44869152142338| 0.010457392583622337|0.38075679144561747| 21.309849731220837|           197.84781984562773|  Electromigration|8.368363514073096|        2936|8.248461994539284|           1.5x Reduced|          p-value > 0.05|\n",
      "|Chip003|              5|Thick Layer|        1427|Silicon-Germanium|             3.33|            83.66013546832714|          183.67146705471066|    -20°C to 85°C|             80|            High|                  15|129.35341120682835|171.80231074940866| 52.89093301251644|  0.07261428635647751|0.38866846639431474|  24.85017632440408|           166.40897837563745|  Electromigration| 6.42897469192035|        2901| 8.44403245490597|           1.5x Reduced|          p-value > 0.05|\n",
      "|Chip004|              5| Thin Layer|        1772|          Silicon|             2.52|            71.42377296920458|          129.15516636294498|    -20°C to 85°C|             50|          Medium|                  12|101.64233351217192|214.50541677693295|53.003347008864566| 0.014390522350585579| 0.7519804053527053| 20.625834178746143|           140.33796639179945|Mechanical Failure|4.035044194798783|        2024| 7.05757683046917|           1.5x Reduced|          p-value < 0.05|\n",
      "|Chip005|             14| Thin Layer|        1509|          Silicon|              2.5|            76.37951260587522|          198.94471941789504|   -40°C to 125°C|             50|            High|                  16|145.63747314395644|192.17039345532817| 47.29394498914612| 0.057934226746068594| 0.7712533108278679|   39.5978905771199|           161.73840373089706|Mechanical Failure|9.149723130967065|        2652|7.779439626235103|             2x Reduced|          p-value < 0.05|\n",
      "+-------+---------------+-----------+------------+-----------------+-----------------+-----------------------------+----------------------------+-----------------+---------------+----------------+--------------------+------------------+------------------+------------------+---------------------+-------------------+-------------------+-----------------------------+------------------+-----------------+------------+-----------------+-----------------------+------------------------+\n",
      "only showing top 5 rows\n"
     ]
    }
   ],
   "source": [
    "raw_chip_df.show(5)"
   ]
  },
  {
   "cell_type": "code",
   "execution_count": 6,
   "metadata": {},
   "outputs": [
    {
     "data": {
      "text/plain": [
       "['Chip ID',\n",
       " 'Technology Node',\n",
       " 'FSDOI Type',\n",
       " 'Gate Density',\n",
       " 'Substrate Type',\n",
       " 'Power Consumption',\n",
       " 'Thermal Dispersion Efficiency',\n",
       " 'Mechanical Stress Resistance',\n",
       " 'Temperature Range',\n",
       " 'Humidity Levels',\n",
       " 'Vibration Levels',\n",
       " 'External Load Stress',\n",
       " 'Thermal Stress',\n",
       " 'Mechanical Stress',\n",
       " 'Electrical Density',\n",
       " 'Electromigration Risk',\n",
       " 'Deformation',\n",
       " 'Thermal Test Result',\n",
       " 'Mechanical Stress Test Result',\n",
       " 'Failure Mode',\n",
       " 'Failure Rate (%)',\n",
       " 'MTTF (hours)',\n",
       " 'Reliability Score',\n",
       " 'Failure Rate Comparison',\n",
       " 'Statistical Significance']"
      ]
     },
     "execution_count": 6,
     "metadata": {},
     "output_type": "execute_result"
    }
   ],
   "source": [
    "raw_chip_df.columns"
   ]
  },
  {
   "cell_type": "code",
   "execution_count": 7,
   "metadata": {},
   "outputs": [],
   "source": [
    "# Before we verify the exact meaning of these columns and what they \n",
    "# represent, we run some typical/standard transformations \n",
    "\n",
    "# Standardize column names\n",
    "raw_chip_df = raw_chip_df.select([col(c).alias(c.lower()\\\n",
    "    .replace(\" \", \"_\").replace(\"(\", \"\").replace(\")\", \"\")) \\\n",
    "        for c in raw_chip_df.columns])"
   ]
  },
  {
   "cell_type": "code",
   "execution_count": 8,
   "metadata": {},
   "outputs": [
    {
     "name": "stdout",
     "output_type": "stream",
     "text": [
      "+-------+---------------+----------+------------+--------------+-----------------+-----------------------------+----------------------------+-----------------+---------------+----------------+--------------------+--------------+-----------------+------------------+---------------------+-----------+-------------------+-----------------------------+------------+--------------+----------+-----------------+-----------------------+------------------------+\n",
      "|chip_id|technology_node|fsdoi_type|gate_density|substrate_type|power_consumption|thermal_dispersion_efficiency|mechanical_stress_resistance|temperature_range|humidity_levels|vibration_levels|external_load_stress|thermal_stress|mechanical_stress|electrical_density|electromigration_risk|deformation|thermal_test_result|mechanical_stress_test_result|failure_mode|failure_rate_%|mttf_hours|reliability_score|failure_rate_comparison|statistical_significance|\n",
      "+-------+---------------+----------+------------+--------------+-----------------+-----------------------------+----------------------------+-----------------+---------------+----------------+--------------------+--------------+-----------------+------------------+---------------------+-----------+-------------------+-----------------------------+------------+--------------+----------+-----------------+-----------------------+------------------------+\n",
      "|      0|              0|         0|           0|             0|                0|                            0|                           0|                0|              0|               0|                   0|             0|                0|                 0|                    0|          0|                  0|                            0|           0|             0|         0|                0|                      0|                       0|\n",
      "+-------+---------------+----------+------------+--------------+-----------------+-----------------------------+----------------------------+-----------------+---------------+----------------+--------------------+--------------+-----------------+------------------+---------------------+-----------+-------------------+-----------------------------+------------+--------------+----------+-----------------+-----------------------+------------------------+\n",
      "\n"
     ]
    }
   ],
   "source": [
    "# Handle missing values\n",
    "raw_chip_df.select([F.count(F.when(F.col(c).isNull(), \\\n",
    "    c)).alias(c) for c in raw_chip_df.columns]).show()"
   ]
  },
  {
   "cell_type": "code",
   "execution_count": 9,
   "metadata": {},
   "outputs": [],
   "source": [
    "# Split or Parse Composite Columns\n",
    "raw_chip_df = raw_chip_df.withColumn(\"temp_min\", regexp_extract\\\n",
    "    (\"temperature_range\", r\"(-?\\d+)\", 1).cast(\"int\"))\n",
    "raw_chip_df = raw_chip_df.withColumn(\"temp_max\", regexp_extract\\\n",
    "    (\"temperature_range\", r\"to\\s*(-?\\d+)\", 1).cast(\"int\"))"
   ]
  },
  {
   "cell_type": "code",
   "execution_count": 10,
   "metadata": {},
   "outputs": [
    {
     "name": "stdout",
     "output_type": "stream",
     "text": [
      "root\n",
      " |-- chip_id: string (nullable = true)\n",
      " |-- technology_node: integer (nullable = true)\n",
      " |-- fsdoi_type: string (nullable = true)\n",
      " |-- gate_density: integer (nullable = true)\n",
      " |-- substrate_type: string (nullable = true)\n",
      " |-- power_consumption: double (nullable = true)\n",
      " |-- thermal_dispersion_efficiency: double (nullable = true)\n",
      " |-- mechanical_stress_resistance: double (nullable = true)\n",
      " |-- temperature_range: string (nullable = true)\n",
      " |-- humidity_levels: integer (nullable = true)\n",
      " |-- vibration_levels: string (nullable = true)\n",
      " |-- external_load_stress: integer (nullable = true)\n",
      " |-- thermal_stress: double (nullable = true)\n",
      " |-- mechanical_stress: double (nullable = true)\n",
      " |-- electrical_density: double (nullable = true)\n",
      " |-- electromigration_risk: double (nullable = true)\n",
      " |-- deformation: double (nullable = true)\n",
      " |-- thermal_test_result: double (nullable = true)\n",
      " |-- mechanical_stress_test_result: double (nullable = true)\n",
      " |-- failure_mode: string (nullable = true)\n",
      " |-- failure_rate_%: double (nullable = true)\n",
      " |-- mttf_hours: integer (nullable = true)\n",
      " |-- reliability_score: double (nullable = true)\n",
      " |-- failure_rate_comparison: string (nullable = true)\n",
      " |-- statistical_significance: string (nullable = true)\n",
      " |-- temp_min: integer (nullable = true)\n",
      " |-- temp_max: integer (nullable = true)\n",
      "\n"
     ]
    }
   ],
   "source": [
    "raw_chip_df.printSchema()"
   ]
  },
  {
   "cell_type": "markdown",
   "metadata": {},
   "source": [
    "## Automotive Chips Reliability Data Dictionary\n",
    "\n",
    "|          Column Name          | Data Type | Description |\n",
    "|-------------------------------|-------------|-----------|\n",
    "| chip_id                       | string  | A unique identifier for each chip in the dataset. |\n",
    "| technology_node               | integer | The process node used in the chip fabrication (e.g., 14nm, 7nm, 5nm) |\n",
    "| fsdoi_type                    | string  | The type of Fully Depleted Silicon on Insulator (FSDOI) used in the chip design (e.g., Thin Layer, Thick Layer) |\n",
    "| gate_density                  | integer | The density of logic gates on the chip, measured in gates per unit area. |\n",
    "| substrate_type                | string  | The type of substrate used in the chip (e.g., Silicon, Silicon-Germanium).|\n",
    "| power_consumption             | double  | The chip's power consumption, measured in watts. |\n",
    "| thermal_dispersion_efficiency | double  | A measure of the chip's ability to dissipate heat, expressed as a percentage. |\n",
    "| mechanical_stress_resistance  | double  | The ability of the chip to resist mechanical stress, measured in megapascals (MPa). |\n",
    "| temperature_range             | string  | The operating temperature range the chip is designed to withstand (e.g., -40°C to 125°C). |\n",
    "| humidity_levels               | integer | The level of humidity the chip can endure, expressed as a percentage (e.g., 20%, 50%, 80%). |\n",
    "| vibration_levels              | string  | The expected vibration levels the chip can withstand (e.g., Low, Medium, High). |\n",
    "| external_load_stress          | integer | The amount of external mechanical load the chip is designed to handle, measured in newtons (N). |\n",
    "| thermal_stress                | double  | The thermal stress experienced by the chip, measured in megapascals (MPa). |\n",
    "| mechanical_stress             | double  | The mechanical stress experienced by the chip, measured in megapascals (MPa). |\n",
    "| electrical_density            | double  | The electrical density on the chip, measured in amperes per unit area. |\n",
    "| electromigration_risk         | double  | The risk of electromigration occurring in the chip, expressed as a percentage or a scale from 0 to 1. |\n",
    "| deformation                   | double  | The amount of deformation the chip undergoes under stress, measured in microns. |\n",
    "| thermal_test_result           | double  | The result of thermal testing, measured in degrees Celsius (°C), indicating how well the chip handles thermal stress. |\n",
    "| mechanical_stress_test_result | double  | The result of mechanical stress testing, measured in megapascals (MPa). |\n",
    "| failure_mode                  | string  |  The type of failure observed during testing (e.g., Thermal Failure, Mechanical Failure, Electromigration). |\n",
    "| failure_rate_                 | double  | The rate of failure for the chip, expressed as a percentage. |\n",
    "| mttf_hours                    | integer | The Mean Time to Failure, measured in hours, indicating the expected operational lifetime of the chip before failure. |\n",
    "| reliability_score             | double  | A score assigned to the chip based on its reliability, ranging from 0 to 10. |\n",
    "| failure_rate_comparison       | string  | A comparison of the failure rates between chips optimized with FSDOI techniques and those without, with categories such as \"2x Reduced,\" \"1.5x Reduced,\" or \"No Change.\" |\n",
    "| statistical_significance      | string  | The statistical significance of the results, typically indicated by p-values (e.g., p-value < 0.05 for statistically significant results). | \n",
    "| temp_min                      | integer | I assume this is minimum temp it can withstand |\n",
    "| temp_max                      | integer | I assume this is max temp it can withstand |"
   ]
  },
  {
   "cell_type": "markdown",
   "metadata": {},
   "source": [
    "### Transformation: Feature Engineering"
   ]
  },
  {
   "cell_type": "code",
   "execution_count": 14,
   "metadata": {},
   "outputs": [],
   "source": [
    "# Drop 'temperature_range' column as it is. It is redundant and that data\n",
    "# is repeated in the 'temp_min' and 'temp_max' columns, which are integers\n",
    "# and more useful.\n",
    "# After dropping, we create a new 'temperature_range' column that calculates\n",
    "# the difference between the 'temp_max' and 'temp_min', representing the span\n",
    "# of temperatures the chip can withstand.\n",
    "\n",
    "raw_chip_df = raw_chip_df.drop('temperature_range')\n",
    "raw_chip_df = raw_chip_df.withColumn('temperature_range', col('temp_max') - col('temp_min'))"
   ]
  },
  {
   "cell_type": "code",
   "execution_count": 16,
   "metadata": {},
   "outputs": [],
   "source": [
    "# Stress Rations\n",
    "# Thermal Stress Ratio\n",
    "    # = thermal stress / mechanical stress resistance\n",
    "    # Ratio to express how much of the chips mechanical resistance is\n",
    "    # being used up by the thermal stress\n",
    "\n",
    "raw_chip_df = raw_chip_df.withColumn\\\n",
    "    ('thermal_stress_ratio', \\\n",
    "        col('thermal_stress') / col('mechanical_stress_resistance'))\n",
    "\n",
    "# Mechanical Stress Ratio\n",
    "    # = mechanical stress / mechanical stress resistance\n",
    "    # Ratio to express how much of the chips mechanical resistance is \n",
    "    # being used up by the mechanical stress\n",
    "\n",
    "raw_chip_df = raw_chip_df.withColumn\\\n",
    "    ('mechanical_stress_ratio', \\\n",
    "        col('mechanical_stress') / col('mechanical_stress_resistance'))"
   ]
  },
  {
   "cell_type": "code",
   "execution_count": 17,
   "metadata": {},
   "outputs": [],
   "source": [
    "# Power Efficiency Metrics\n",
    "# Power Density\n",
    "    # = power consumption / gate density\n",
    "    # Measures how much power each logic gate is using.\n",
    "        # i.e., how dense the power consumption is per unit of logic\n",
    "    # Interpretation\n",
    "        # lower values = better efficiency (less power used per gate)\n",
    "        # higher values = more power per gate. May indicate inefficient design\n",
    "            # or high-performance/high-power chips\n",
    "\n",
    "raw_chip_df = raw_chip_df.withColumn\\\n",
    "    ('power_density', \\\n",
    "        col('power_consumption') / col('gate_density'))\n",
    "\n",
    "# Thermal Efficiency Ratio\n",
    "    # = thermal dispersion efficiency / power_consumption\n",
    "    # Ratio of how effective the chip is at dissipating heat relative to \n",
    "        # how much power it uses.\n",
    "    # Interpretation\n",
    "        # lower values = may signal chip runs hotter or inefficiently thermally\n",
    "        # higher values = efficient thermal design i.e., chip is dissipating\n",
    "            # more heat for each unit of power it consumes\n",
    "\n",
    "raw_chip_df = raw_chip_df.withColumn\\\n",
    "    ('thermal_efficiency_ratio', \\\n",
    "        col('thermal_dispersion_efficiency') / col('power_consumption'))\n",
    "\n"
   ]
  },
  {
   "cell_type": "code",
   "execution_count": 22,
   "metadata": {},
   "outputs": [],
   "source": [
    "# Electromigration Risk Category\n",
    "    # Convert continuous or percentage variable into categories\n",
    "    # Reason\n",
    "        # Makes it easier to segment chip into risk levels,\n",
    "            # simplifies analysis, and aids in interpretability\n",
    "\n",
    "# Sort rows by 'electromigration risk' in ascending order\n",
    "windowSpec = Window.orderBy(col('electromigration_risk'))\n",
    "\n",
    "# Create new column 'risk_percentile'\n",
    "# # ranks and categorizes chips based on \n",
    "    # relative electromigration risk\n",
    "ranked_df = raw_chip_df.withColumn('risk_percentile', percent_rank().over(windowSpec))\n",
    "\n",
    "# Create new column 'electromigration_risk_category' with\n",
    "    # string labels based on the percentiles.\n",
    "raw_chip_df = ranked_df.withColumn('electromigration_risk_category', when(col('risk_percentile') <= 0.33, \"Low\").when((col('risk_percentile') > 0.33) & (col('risk_percentile') <= 0.66), \"Medium\").otherwise(\"High\"))\n",
    "\n"
   ]
  },
  {
   "cell_type": "code",
   "execution_count": 25,
   "metadata": {},
   "outputs": [],
   "source": [
    "# Failure Rate Comparison Encoding\n",
    "    # Comparison of failure rates of chips with optimized FSDOI\n",
    "        # techniques and those without\n",
    "    # Convert categorical data to numerical data to reflect their meaning\n",
    "\n",
    "rraw_chip_df = raw_chip_df.withColumn(\n",
    "    \"failure_rate_comparison_encoded\",\n",
    "    when(col(\"failure_rate_comparison\") == \"2x Reduced\", 2.0)\n",
    "    .when(col(\"failure_rate_comparison\") == \"1.5x Reduced\", 1.5)\n",
    "    .when(col(\"failure_rate_comparison\") == \"No Change\", 1.0)\n",
    "    .otherwise(None)\n",
    ")"
   ]
  },
  {
   "cell_type": "code",
   "execution_count": 29,
   "metadata": {},
   "outputs": [],
   "source": [
    "# Stress Test Delta\n",
    "    # Calculate difference (delta) between test values and\n",
    "        # actual design resistance\n",
    "\n",
    "# thermal test delta = thermal test result - thermal stress\n",
    "# mechanical test delta = mechanical stress test result - mechanical stress\n",
    "\n",
    "raw_chip_df = raw_chip_df.withColumn\\\n",
    "    ('thermal_test_delta', col('thermal_test_result') - \\\n",
    "        col('thermal_stress')).withColumn\\\n",
    "            ('mechanical_test_delta', col('mechanical_stress_test_result') - \\\n",
    "                col('mechanical_stress'))"
   ]
  },
  {
   "cell_type": "code",
   "execution_count": 30,
   "metadata": {},
   "outputs": [],
   "source": [
    "# Deformation per Stress Unit\n",
    "    # = deformation / mechanical stress\n",
    "    # Measure of how much the chip deforms per unit of mechanical stress.\n",
    "    # Interpretation\n",
    "        # Higher value =  less resistant/prone to physical warping or failure\n",
    "        # Lower value = more resistant/more structurally robust under load.\n",
    "\n",
    "raw_chip_df = raw_chip_df.withColumn('deformation_per_stress', \\\n",
    "    col('deformation') / col('mechanical_stress'))\n"
   ]
  },
  {
   "cell_type": "code",
   "execution_count": 31,
   "metadata": {},
   "outputs": [],
   "source": [
    "# Vibration Level Numeric Encoding\n",
    "    # Expected Vibration level the chip can withstand\n",
    "    # Converted to categorical levels for modeling\n",
    "\n",
    "raw_chip_df = raw_chip_df.withColumn(\n",
    "    \"vibration_level_encoded\",\n",
    "    when(col(\"vibration_levels\") == \"Low\", 1)\n",
    "    .when(col(\"vibration_levels\") == \"Medium\", 2)\n",
    "    .when(col(\"vibration_levels\") == \"High\", 3)\n",
    "    .otherwise(None)\n",
    ")"
   ]
  },
  {
   "cell_type": "code",
   "execution_count": 32,
   "metadata": {},
   "outputs": [],
   "source": [
    "# Failure Mode Binary Flags (One-Hot Encoding)\n",
    "    # Failure mode values are strings that say what\n",
    "        # the reason for failure was\n",
    "    # Convert to abinary flag column (0/1) for filtering or modeling\n",
    "\n",
    "raw_chip_df = raw_chip_df.withColumn(\n",
    "    \"failure_mode_thermal\",\n",
    "    when(col(\"failure_mode\") == \"Thermal Failure\", 1).otherwise(0)\n",
    ").withColumn(\n",
    "    \"failure_mode_mechanical\",\n",
    "    when(col(\"failure_mode\") == \"Mechanical Failure\", 1).otherwise(0)\n",
    ").withColumn(\n",
    "    \"failure_mode_electromigration\",\n",
    "    when(col(\"failure_mode\") == \"Electromigration\", 1).otherwise(0)\n",
    ")\n"
   ]
  },
  {
   "cell_type": "markdown",
   "metadata": {},
   "source": []
  }
 ],
 "metadata": {
  "kernelspec": {
   "display_name": "venv",
   "language": "python",
   "name": "python3"
  },
  "language_info": {
   "codemirror_mode": {
    "name": "ipython",
    "version": 3
   },
   "file_extension": ".py",
   "mimetype": "text/x-python",
   "name": "python",
   "nbconvert_exporter": "python",
   "pygments_lexer": "ipython3",
   "version": "3.11.5"
  }
 },
 "nbformat": 4,
 "nbformat_minor": 2
}
