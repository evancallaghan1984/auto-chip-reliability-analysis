{
 "cells": [
  {
   "cell_type": "code",
   "execution_count": 2,
   "metadata": {},
   "outputs": [],
   "source": [
    "import pandas as pd\n",
    "import numpy as np\n",
    "from sqlalchemy import create_engine\n"
   ]
  },
  {
   "cell_type": "code",
   "execution_count": 7,
   "metadata": {},
   "outputs": [],
   "source": [
    "chip_df = pd.read_csv('automotive_chips_reliability_dataset.csv')\n"
   ]
  },
  {
   "cell_type": "code",
   "execution_count": 10,
   "metadata": {},
   "outputs": [
    {
     "data": {
      "text/plain": [
       "Chip ID                          0\n",
       "Technology Node                  0\n",
       "FSDOI Type                       0\n",
       "Gate Density                     0\n",
       "Substrate Type                   0\n",
       "Power Consumption                0\n",
       "Thermal Dispersion Efficiency    0\n",
       "Mechanical Stress Resistance     0\n",
       "Temperature Range                0\n",
       "Humidity Levels                  0\n",
       "Vibration Levels                 0\n",
       "External Load Stress             0\n",
       "Thermal Stress                   0\n",
       "Mechanical Stress                0\n",
       "Electrical Density               0\n",
       "Electromigration Risk            0\n",
       "Deformation                      0\n",
       "Thermal Test Result              0\n",
       "Mechanical Stress Test Result    0\n",
       "Failure Mode                     0\n",
       "Failure Rate (%)                 0\n",
       "MTTF (hours)                     0\n",
       "Reliability Score                0\n",
       "Failure Rate Comparison          0\n",
       "Statistical Significance         0\n",
       "dtype: int64"
      ]
     },
     "execution_count": 10,
     "metadata": {},
     "output_type": "execute_result"
    }
   ],
   "source": [
    "# Check for missing data\n",
    "chip_df.isnull().sum()"
   ]
  },
  {
   "cell_type": "code",
   "execution_count": 11,
   "metadata": {},
   "outputs": [
    {
     "data": {
      "text/plain": [
       "Chip ID                           object\n",
       "Technology Node                    int64\n",
       "FSDOI Type                        object\n",
       "Gate Density                       int64\n",
       "Substrate Type                    object\n",
       "Power Consumption                float64\n",
       "Thermal Dispersion Efficiency    float64\n",
       "Mechanical Stress Resistance     float64\n",
       "Temperature Range                 object\n",
       "Humidity Levels                    int64\n",
       "Vibration Levels                  object\n",
       "External Load Stress               int64\n",
       "Thermal Stress                   float64\n",
       "Mechanical Stress                float64\n",
       "Electrical Density               float64\n",
       "Electromigration Risk            float64\n",
       "Deformation                      float64\n",
       "Thermal Test Result              float64\n",
       "Mechanical Stress Test Result    float64\n",
       "Failure Mode                      object\n",
       "Failure Rate (%)                 float64\n",
       "MTTF (hours)                       int64\n",
       "Reliability Score                float64\n",
       "Failure Rate Comparison           object\n",
       "Statistical Significance          object\n",
       "dtype: object"
      ]
     },
     "execution_count": 11,
     "metadata": {},
     "output_type": "execute_result"
    }
   ],
   "source": [
    "chip_df.dtypes"
   ]
  },
  {
   "cell_type": "markdown",
   "metadata": {},
   "source": []
  },
  {
   "cell_type": "code",
   "execution_count": 12,
   "metadata": {},
   "outputs": [
    {
     "data": {
      "text/plain": [
       "0    Chip001\n",
       "1    Chip002\n",
       "2    Chip003\n",
       "3    Chip004\n",
       "4    Chip005\n",
       "Name: Chip ID, dtype: object"
      ]
     },
     "execution_count": 12,
     "metadata": {},
     "output_type": "execute_result"
    }
   ],
   "source": [
    "chip_df['Chip ID'].head()"
   ]
  },
  {
   "cell_type": "code",
   "execution_count": null,
   "metadata": {},
   "outputs": [],
   "source": []
  }
 ],
 "metadata": {
  "kernelspec": {
   "display_name": "venv",
   "language": "python",
   "name": "python3"
  },
  "language_info": {
   "codemirror_mode": {
    "name": "ipython",
    "version": 3
   },
   "file_extension": ".py",
   "mimetype": "text/x-python",
   "name": "python",
   "nbconvert_exporter": "python",
   "pygments_lexer": "ipython3",
   "version": "3.8.5"
  }
 },
 "nbformat": 4,
 "nbformat_minor": 2
}
