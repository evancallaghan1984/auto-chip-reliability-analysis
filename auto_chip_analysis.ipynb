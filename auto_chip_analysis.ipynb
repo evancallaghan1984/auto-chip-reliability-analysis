{
 "cells": [
  {
   "cell_type": "code",
   "execution_count": 15,
   "metadata": {},
   "outputs": [],
   "source": [
    "# Import pyspark\n",
    "from pyspark.sql import SparkSession\n",
    "from pyspark.sql.functions import col\n",
    "from pyspark.sql import functions as F\n",
    "from pyspark.sql.functions import regexp_extract\n"
   ]
  },
  {
   "cell_type": "code",
   "execution_count": 2,
   "metadata": {},
   "outputs": [
    {
     "name": "stderr",
     "output_type": "stream",
     "text": [
      "WARNING: Using incubator modules: jdk.incubator.vector\n",
      "Using Spark's default log4j profile: org/apache/spark/log4j2-defaults.properties\n",
      "25/06/02 16:11:51 WARN Utils: Your hostname, Evans-MacBook-Pro-2.local, resolves to a loopback address: 127.0.0.1; using 192.168.0.149 instead (on interface en0)\n",
      "25/06/02 16:11:51 WARN Utils: Set SPARK_LOCAL_IP if you need to bind to another address\n",
      "Using Spark's default log4j profile: org/apache/spark/log4j2-defaults.properties\n",
      "Setting default log level to \"WARN\".\n",
      "To adjust logging level use sc.setLogLevel(newLevel). For SparkR, use setLogLevel(newLevel).\n",
      "25/06/02 16:11:52 WARN NativeCodeLoader: Unable to load native-hadoop library for your platform... using builtin-java classes where applicable\n"
     ]
    }
   ],
   "source": [
    "# Create a Spark Session\n",
    "spark = SparkSession.builder\\\n",
    "    .appName(\"Automotive Chip Reliability ETL\")\\\n",
    "        .getOrCreate()"
   ]
  },
  {
   "cell_type": "code",
   "execution_count": 3,
   "metadata": {},
   "outputs": [
    {
     "data": {
      "text/plain": [
       "Row(Chip ID='Chip001', Technology Node=5, FSDOI Type='Thick Layer', Gate Density=989, Substrate Type='Silicon', Power Consumption=3.12, Thermal Dispersion Efficiency=70.364436513031, Mechanical Stress Resistance=195.48182400614584, Temperature Range='-20°C to 85°C', Humidity Levels=80, Vibration Levels='Medium', External Load Stress=48, Thermal Stress=124.04184890445367, Mechanical Stress=219.88458531609044, Electrical Density=49.10287370072312, Electromigration Risk=0.03273841845647966, Deformation=0.4980688861428193, Thermal Test Result=33.00966001869167, Mechanical Stress Test Result=145.85045256562228, Failure Mode='Thermal Failure', Failure Rate (%)=4.069810220267985, MTTF (hours)=2482, Reliability Score=7.033093793285942, Failure Rate Comparison='2x Reduced', Statistical Significance='p-value < 0.05')"
      ]
     },
     "execution_count": 3,
     "metadata": {},
     "output_type": "execute_result"
    }
   ],
   "source": [
    "# Load the CSV file into a Spark DataFrame\n",
    "raw_chip_df = spark.read.csv('data/automotive_chips_reliability_dataset.csv', header=True, inferSchema=True)"
   ]
  },
  {
   "cell_type": "code",
   "execution_count": 5,
   "metadata": {},
   "outputs": [
    {
     "name": "stdout",
     "output_type": "stream",
     "text": [
      "root\n",
      " |-- Chip ID: string (nullable = true)\n",
      " |-- Technology Node: integer (nullable = true)\n",
      " |-- FSDOI Type: string (nullable = true)\n",
      " |-- Gate Density: integer (nullable = true)\n",
      " |-- Substrate Type: string (nullable = true)\n",
      " |-- Power Consumption: double (nullable = true)\n",
      " |-- Thermal Dispersion Efficiency: double (nullable = true)\n",
      " |-- Mechanical Stress Resistance: double (nullable = true)\n",
      " |-- Temperature Range: string (nullable = true)\n",
      " |-- Humidity Levels: integer (nullable = true)\n",
      " |-- Vibration Levels: string (nullable = true)\n",
      " |-- External Load Stress: integer (nullable = true)\n",
      " |-- Thermal Stress: double (nullable = true)\n",
      " |-- Mechanical Stress: double (nullable = true)\n",
      " |-- Electrical Density: double (nullable = true)\n",
      " |-- Electromigration Risk: double (nullable = true)\n",
      " |-- Deformation: double (nullable = true)\n",
      " |-- Thermal Test Result: double (nullable = true)\n",
      " |-- Mechanical Stress Test Result: double (nullable = true)\n",
      " |-- Failure Mode: string (nullable = true)\n",
      " |-- Failure Rate (%): double (nullable = true)\n",
      " |-- MTTF (hours): integer (nullable = true)\n",
      " |-- Reliability Score: double (nullable = true)\n",
      " |-- Failure Rate Comparison: string (nullable = true)\n",
      " |-- Statistical Significance: string (nullable = true)\n",
      "\n"
     ]
    }
   ],
   "source": [
    "raw_chip_df.printSchema()"
   ]
  },
  {
   "cell_type": "code",
   "execution_count": 6,
   "metadata": {},
   "outputs": [
    {
     "name": "stdout",
     "output_type": "stream",
     "text": [
      "+-------+---------------+-----------+------------+-----------------+-----------------+-----------------------------+----------------------------+-----------------+---------------+----------------+--------------------+------------------+------------------+------------------+---------------------+-------------------+-------------------+-----------------------------+------------------+-----------------+------------+-----------------+-----------------------+------------------------+\n",
      "|Chip ID|Technology Node| FSDOI Type|Gate Density|   Substrate Type|Power Consumption|Thermal Dispersion Efficiency|Mechanical Stress Resistance|Temperature Range|Humidity Levels|Vibration Levels|External Load Stress|    Thermal Stress| Mechanical Stress|Electrical Density|Electromigration Risk|        Deformation|Thermal Test Result|Mechanical Stress Test Result|      Failure Mode| Failure Rate (%)|MTTF (hours)|Reliability Score|Failure Rate Comparison|Statistical Significance|\n",
      "+-------+---------------+-----------+------------+-----------------+-----------------+-----------------------------+----------------------------+-----------------+---------------+----------------+--------------------+------------------+------------------+------------------+---------------------+-------------------+-------------------+-----------------------------+------------------+-----------------+------------+-----------------+-----------------------+------------------------+\n",
      "|Chip001|              5|Thick Layer|         989|          Silicon|             3.12|              70.364436513031|          195.48182400614584|    -20°C to 85°C|             80|          Medium|                  48|124.04184890445367|219.88458531609044| 49.10287370072312|  0.03273841845647966| 0.4980688861428193|  33.00966001869167|           145.85045256562228|   Thermal Failure|4.069810220267985|        2482|7.033093793285942|             2x Reduced|          p-value < 0.05|\n",
      "|Chip002|             14|Thick Layer|        1432|Silicon-Germanium|             3.23|            71.88885921511857|          56.473986792586416|   -40°C to 125°C|             80|            High|                  15|145.92273624696506|190.25500435969806| 50.44869152142338| 0.010457392583622337|0.38075679144561747| 21.309849731220837|           197.84781984562773|  Electromigration|8.368363514073096|        2936|8.248461994539284|           1.5x Reduced|          p-value > 0.05|\n",
      "|Chip003|              5|Thick Layer|        1427|Silicon-Germanium|             3.33|            83.66013546832714|          183.67146705471066|    -20°C to 85°C|             80|            High|                  15|129.35341120682835|171.80231074940866| 52.89093301251644|  0.07261428635647751|0.38866846639431474|  24.85017632440408|           166.40897837563745|  Electromigration| 6.42897469192035|        2901| 8.44403245490597|           1.5x Reduced|          p-value > 0.05|\n",
      "|Chip004|              5| Thin Layer|        1772|          Silicon|             2.52|            71.42377296920458|          129.15516636294498|    -20°C to 85°C|             50|          Medium|                  12|101.64233351217192|214.50541677693295|53.003347008864566| 0.014390522350585579| 0.7519804053527053| 20.625834178746143|           140.33796639179945|Mechanical Failure|4.035044194798783|        2024| 7.05757683046917|           1.5x Reduced|          p-value < 0.05|\n",
      "|Chip005|             14| Thin Layer|        1509|          Silicon|              2.5|            76.37951260587522|          198.94471941789504|   -40°C to 125°C|             50|            High|                  16|145.63747314395644|192.17039345532817| 47.29394498914612| 0.057934226746068594| 0.7712533108278679|   39.5978905771199|           161.73840373089706|Mechanical Failure|9.149723130967065|        2652|7.779439626235103|             2x Reduced|          p-value < 0.05|\n",
      "+-------+---------------+-----------+------------+-----------------+-----------------+-----------------------------+----------------------------+-----------------+---------------+----------------+--------------------+------------------+------------------+------------------+---------------------+-------------------+-------------------+-----------------------------+------------------+-----------------+------------+-----------------+-----------------------+------------------------+\n",
      "only showing top 5 rows\n"
     ]
    }
   ],
   "source": [
    "raw_chip_df.show(5)"
   ]
  },
  {
   "cell_type": "code",
   "execution_count": 7,
   "metadata": {},
   "outputs": [
    {
     "data": {
      "text/plain": [
       "['Chip ID',\n",
       " 'Technology Node',\n",
       " 'FSDOI Type',\n",
       " 'Gate Density',\n",
       " 'Substrate Type',\n",
       " 'Power Consumption',\n",
       " 'Thermal Dispersion Efficiency',\n",
       " 'Mechanical Stress Resistance',\n",
       " 'Temperature Range',\n",
       " 'Humidity Levels',\n",
       " 'Vibration Levels',\n",
       " 'External Load Stress',\n",
       " 'Thermal Stress',\n",
       " 'Mechanical Stress',\n",
       " 'Electrical Density',\n",
       " 'Electromigration Risk',\n",
       " 'Deformation',\n",
       " 'Thermal Test Result',\n",
       " 'Mechanical Stress Test Result',\n",
       " 'Failure Mode',\n",
       " 'Failure Rate (%)',\n",
       " 'MTTF (hours)',\n",
       " 'Reliability Score',\n",
       " 'Failure Rate Comparison',\n",
       " 'Statistical Significance']"
      ]
     },
     "execution_count": 7,
     "metadata": {},
     "output_type": "execute_result"
    }
   ],
   "source": [
    "raw_chip_df.columns"
   ]
  },
  {
   "cell_type": "code",
   "execution_count": 10,
   "metadata": {},
   "outputs": [],
   "source": [
    "# Before we verify the exact meaning of these columns and what they \n",
    "# represent, we run some typical/standard transformations \n",
    "\n",
    "# Standardize column names\n",
    "raw_chip_df = raw_chip_df.select([col(c).alias(c.lower()\\\n",
    "    .replace(\" \", \"_\").replace(\"(\", \"\").replace(\")\", \"\")) \\\n",
    "        for c in raw_chip_df.columns])"
   ]
  },
  {
   "cell_type": "code",
   "execution_count": 13,
   "metadata": {},
   "outputs": [
    {
     "name": "stdout",
     "output_type": "stream",
     "text": [
      "+-------+---------------+----------+------------+--------------+-----------------+-----------------------------+----------------------------+-----------------+---------------+----------------+--------------------+--------------+-----------------+------------------+---------------------+-----------+-------------------+-----------------------------+------------+--------------+----------+-----------------+-----------------------+------------------------+\n",
      "|chip_id|technology_node|fsdoi_type|gate_density|substrate_type|power_consumption|thermal_dispersion_efficiency|mechanical_stress_resistance|temperature_range|humidity_levels|vibration_levels|external_load_stress|thermal_stress|mechanical_stress|electrical_density|electromigration_risk|deformation|thermal_test_result|mechanical_stress_test_result|failure_mode|failure_rate_%|mttf_hours|reliability_score|failure_rate_comparison|statistical_significance|\n",
      "+-------+---------------+----------+------------+--------------+-----------------+-----------------------------+----------------------------+-----------------+---------------+----------------+--------------------+--------------+-----------------+------------------+---------------------+-----------+-------------------+-----------------------------+------------+--------------+----------+-----------------+-----------------------+------------------------+\n",
      "|      0|              0|         0|           0|             0|                0|                            0|                           0|                0|              0|               0|                   0|             0|                0|                 0|                    0|          0|                  0|                            0|           0|             0|         0|                0|                      0|                       0|\n",
      "+-------+---------------+----------+------------+--------------+-----------------+-----------------------------+----------------------------+-----------------+---------------+----------------+--------------------+--------------+-----------------+------------------+---------------------+-----------+-------------------+-----------------------------+------------+--------------+----------+-----------------+-----------------------+------------------------+\n",
      "\n"
     ]
    }
   ],
   "source": [
    "# Handle missing values\n",
    "raw_chip_df.select([F.count(F.when(F.col(c).isNull(), \\\n",
    "    c)).alias(c) for c in raw_chip_df.columns]).show()"
   ]
  },
  {
   "cell_type": "code",
   "execution_count": 16,
   "metadata": {},
   "outputs": [],
   "source": [
    "# Split or Parse Composite Columns\n",
    "raw_chip_df = raw_chip_df.withColumn(\"temp_min\", regexp_extract\\\n",
    "    (\"temperature_range\", r\"(-?\\d+)\", 1).cast(\"int\"))\n",
    "raw_chip_df = raw_chip_df.withColumn(\"temp_max\", regexp_extract\\\n",
    "    (\"temperature_range\", r\"to\\s*(-?\\d+)\", 1).cast(\"int\"))"
   ]
  },
  {
   "cell_type": "code",
   "execution_count": 18,
   "metadata": {},
   "outputs": [
    {
     "name": "stdout",
     "output_type": "stream",
     "text": [
      "root\n",
      " |-- chip_id: string (nullable = true)\n",
      " |-- technology_node: integer (nullable = true)\n",
      " |-- fsdoi_type: string (nullable = true)\n",
      " |-- gate_density: integer (nullable = true)\n",
      " |-- substrate_type: string (nullable = true)\n",
      " |-- power_consumption: double (nullable = true)\n",
      " |-- thermal_dispersion_efficiency: double (nullable = true)\n",
      " |-- mechanical_stress_resistance: double (nullable = true)\n",
      " |-- temperature_range: string (nullable = true)\n",
      " |-- humidity_levels: integer (nullable = true)\n",
      " |-- vibration_levels: string (nullable = true)\n",
      " |-- external_load_stress: integer (nullable = true)\n",
      " |-- thermal_stress: double (nullable = true)\n",
      " |-- mechanical_stress: double (nullable = true)\n",
      " |-- electrical_density: double (nullable = true)\n",
      " |-- electromigration_risk: double (nullable = true)\n",
      " |-- deformation: double (nullable = true)\n",
      " |-- thermal_test_result: double (nullable = true)\n",
      " |-- mechanical_stress_test_result: double (nullable = true)\n",
      " |-- failure_mode: string (nullable = true)\n",
      " |-- failure_rate_%: double (nullable = true)\n",
      " |-- mttf_hours: integer (nullable = true)\n",
      " |-- reliability_score: double (nullable = true)\n",
      " |-- failure_rate_comparison: string (nullable = true)\n",
      " |-- statistical_significance: string (nullable = true)\n",
      " |-- temp_min: integer (nullable = true)\n",
      " |-- temp_max: integer (nullable = true)\n",
      "\n"
     ]
    }
   ],
   "source": [
    "raw_chip_df.printSchema()"
   ]
  },
  {
   "cell_type": "code",
   "execution_count": null,
   "metadata": {},
   "outputs": [],
   "source": []
  }
 ],
 "metadata": {
  "kernelspec": {
   "display_name": "venv",
   "language": "python",
   "name": "python3"
  },
  "language_info": {
   "codemirror_mode": {
    "name": "ipython",
    "version": 3
   },
   "file_extension": ".py",
   "mimetype": "text/x-python",
   "name": "python",
   "nbconvert_exporter": "python",
   "pygments_lexer": "ipython3",
   "version": "3.11.5"
  }
 },
 "nbformat": 4,
 "nbformat_minor": 2
}
